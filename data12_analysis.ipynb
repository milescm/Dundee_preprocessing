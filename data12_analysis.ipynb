{
 "cells": [
  {
   "cell_type": "code",
   "execution_count": 62,
   "metadata": {},
   "outputs": [],
   "source": [
    "import numpy as np\n",
    "import pandas as pd\n",
    "import matplotlib.pyplot as plt\n",
    "import seaborn as sns\n",
    "import operator"
   ]
  },
  {
   "cell_type": "code",
   "execution_count": 63,
   "metadata": {},
   "outputs": [],
   "source": [
    "df = pd.read_csv('./csvfile/data12.csv')"
   ]
  },
  {
   "cell_type": "code",
   "execution_count": 64,
   "metadata": {},
   "outputs": [
    {
     "data": {
      "text/html": [
       "<div>\n",
       "<style scoped>\n",
       "    .dataframe tbody tr th:only-of-type {\n",
       "        vertical-align: middle;\n",
       "    }\n",
       "\n",
       "    .dataframe tbody tr th {\n",
       "        vertical-align: top;\n",
       "    }\n",
       "\n",
       "    .dataframe thead th {\n",
       "        text-align: right;\n",
       "    }\n",
       "</style>\n",
       "<table border=\"1\" class=\"dataframe\">\n",
       "  <thead>\n",
       "    <tr style=\"text-align: right;\">\n",
       "      <th></th>\n",
       "      <th>Unnamed: 0</th>\n",
       "      <th>CP ID</th>\n",
       "      <th>Connector</th>\n",
       "      <th>Start Date</th>\n",
       "      <th>Start Time</th>\n",
       "      <th>End Date</th>\n",
       "      <th>End Time</th>\n",
       "      <th>Total kWh</th>\n",
       "    </tr>\n",
       "  </thead>\n",
       "  <tbody>\n",
       "    <tr>\n",
       "      <td>0</td>\n",
       "      <td>0</td>\n",
       "      <td>50230</td>\n",
       "      <td>1</td>\n",
       "      <td>01/04/2018</td>\n",
       "      <td>12:29</td>\n",
       "      <td>01/04/2018</td>\n",
       "      <td>18:52</td>\n",
       "      <td>12.47</td>\n",
       "    </tr>\n",
       "    <tr>\n",
       "      <td>1</td>\n",
       "      <td>1</td>\n",
       "      <td>50230</td>\n",
       "      <td>2</td>\n",
       "      <td>01/04/2018</td>\n",
       "      <td>12:11</td>\n",
       "      <td>01/04/2018</td>\n",
       "      <td>12:34</td>\n",
       "      <td>5.54</td>\n",
       "    </tr>\n",
       "    <tr>\n",
       "      <td>2</td>\n",
       "      <td>2</td>\n",
       "      <td>50230</td>\n",
       "      <td>2</td>\n",
       "      <td>01/04/2018</td>\n",
       "      <td>12:26</td>\n",
       "      <td>01/04/2018</td>\n",
       "      <td>12:47</td>\n",
       "      <td>4.60</td>\n",
       "    </tr>\n",
       "    <tr>\n",
       "      <td>3</td>\n",
       "      <td>3</td>\n",
       "      <td>50230</td>\n",
       "      <td>2</td>\n",
       "      <td>01/04/2018</td>\n",
       "      <td>12:00</td>\n",
       "      <td>01/04/2018</td>\n",
       "      <td>12:16</td>\n",
       "      <td>3.15</td>\n",
       "    </tr>\n",
       "    <tr>\n",
       "      <td>4</td>\n",
       "      <td>4</td>\n",
       "      <td>50230</td>\n",
       "      <td>2</td>\n",
       "      <td>01/04/2018</td>\n",
       "      <td>12:09</td>\n",
       "      <td>01/04/2018</td>\n",
       "      <td>13:10</td>\n",
       "      <td>23.40</td>\n",
       "    </tr>\n",
       "  </tbody>\n",
       "</table>\n",
       "</div>"
      ],
      "text/plain": [
       "   Unnamed: 0  CP ID  Connector  Start Date Start Time    End Date End Time  \\\n",
       "0           0  50230          1  01/04/2018      12:29  01/04/2018    18:52   \n",
       "1           1  50230          2  01/04/2018      12:11  01/04/2018    12:34   \n",
       "2           2  50230          2  01/04/2018      12:26  01/04/2018    12:47   \n",
       "3           3  50230          2  01/04/2018      12:00  01/04/2018    12:16   \n",
       "4           4  50230          2  01/04/2018      12:09  01/04/2018    13:10   \n",
       "\n",
       "   Total kWh  \n",
       "0      12.47  \n",
       "1       5.54  \n",
       "2       4.60  \n",
       "3       3.15  \n",
       "4      23.40  "
      ]
     },
     "execution_count": 64,
     "metadata": {},
     "output_type": "execute_result"
    }
   ],
   "source": [
    "df.head()"
   ]
  },
  {
   "cell_type": "code",
   "execution_count": 65,
   "metadata": {},
   "outputs": [],
   "source": [
    "df.drop(['Unnamed: 0'], axis=1, inplace=True)"
   ]
  },
  {
   "cell_type": "code",
   "execution_count": 66,
   "metadata": {},
   "outputs": [
    {
     "data": {
      "text/html": [
       "<div>\n",
       "<style scoped>\n",
       "    .dataframe tbody tr th:only-of-type {\n",
       "        vertical-align: middle;\n",
       "    }\n",
       "\n",
       "    .dataframe tbody tr th {\n",
       "        vertical-align: top;\n",
       "    }\n",
       "\n",
       "    .dataframe thead th {\n",
       "        text-align: right;\n",
       "    }\n",
       "</style>\n",
       "<table border=\"1\" class=\"dataframe\">\n",
       "  <thead>\n",
       "    <tr style=\"text-align: right;\">\n",
       "      <th></th>\n",
       "      <th>CP ID</th>\n",
       "      <th>Connector</th>\n",
       "      <th>Start Date</th>\n",
       "      <th>Start Time</th>\n",
       "      <th>End Date</th>\n",
       "      <th>End Time</th>\n",
       "      <th>Total kWh</th>\n",
       "    </tr>\n",
       "  </thead>\n",
       "  <tbody>\n",
       "    <tr>\n",
       "      <td>0</td>\n",
       "      <td>50230</td>\n",
       "      <td>1</td>\n",
       "      <td>01/04/2018</td>\n",
       "      <td>12:29</td>\n",
       "      <td>01/04/2018</td>\n",
       "      <td>18:52</td>\n",
       "      <td>12.47</td>\n",
       "    </tr>\n",
       "    <tr>\n",
       "      <td>1</td>\n",
       "      <td>50230</td>\n",
       "      <td>2</td>\n",
       "      <td>01/04/2018</td>\n",
       "      <td>12:11</td>\n",
       "      <td>01/04/2018</td>\n",
       "      <td>12:34</td>\n",
       "      <td>5.54</td>\n",
       "    </tr>\n",
       "    <tr>\n",
       "      <td>2</td>\n",
       "      <td>50230</td>\n",
       "      <td>2</td>\n",
       "      <td>01/04/2018</td>\n",
       "      <td>12:26</td>\n",
       "      <td>01/04/2018</td>\n",
       "      <td>12:47</td>\n",
       "      <td>4.60</td>\n",
       "    </tr>\n",
       "    <tr>\n",
       "      <td>3</td>\n",
       "      <td>50230</td>\n",
       "      <td>2</td>\n",
       "      <td>01/04/2018</td>\n",
       "      <td>12:00</td>\n",
       "      <td>01/04/2018</td>\n",
       "      <td>12:16</td>\n",
       "      <td>3.15</td>\n",
       "    </tr>\n",
       "    <tr>\n",
       "      <td>4</td>\n",
       "      <td>50230</td>\n",
       "      <td>2</td>\n",
       "      <td>01/04/2018</td>\n",
       "      <td>12:09</td>\n",
       "      <td>01/04/2018</td>\n",
       "      <td>13:10</td>\n",
       "      <td>23.40</td>\n",
       "    </tr>\n",
       "  </tbody>\n",
       "</table>\n",
       "</div>"
      ],
      "text/plain": [
       "   CP ID  Connector  Start Date Start Time    End Date End Time  Total kWh\n",
       "0  50230          1  01/04/2018      12:29  01/04/2018    18:52      12.47\n",
       "1  50230          2  01/04/2018      12:11  01/04/2018    12:34       5.54\n",
       "2  50230          2  01/04/2018      12:26  01/04/2018    12:47       4.60\n",
       "3  50230          2  01/04/2018      12:00  01/04/2018    12:16       3.15\n",
       "4  50230          2  01/04/2018      12:09  01/04/2018    13:10      23.40"
      ]
     },
     "execution_count": 66,
     "metadata": {},
     "output_type": "execute_result"
    }
   ],
   "source": [
    "df.head()"
   ]
  },
  {
   "cell_type": "code",
   "execution_count": 67,
   "metadata": {},
   "outputs": [],
   "source": [
    "# 시간 구하기 위해 시간,분 나눠서 저장\n",
    "starthour = []\n",
    "endhour = []\n",
    "startmin = []\n",
    "endmin = []\n",
    "for i in df['Start Time']:\n",
    "    starthour.append(float(i.split(':')[0]))\n",
    "    startmin.append(float(i.split(':')[1]))\n",
    "    \n",
    "\n",
    "for j in df['End Time']:\n",
    "    endhour.append(float(j.split(':')[0]))\n",
    "    endmin.append(float(j.split(':')[1]))\n",
    "\n"
   ]
  },
  {
   "cell_type": "code",
   "execution_count": 57,
   "metadata": {
    "scrolled": true
   },
   "outputs": [],
   "source": [
    "# 연, 월, 일 비교 : 충전시간을 분단위로 구하기 위함\n",
    "\n",
    "startday = []\n",
    "endday = []\n",
    "startmonth = []\n",
    "endmonth = []\n",
    "startyear = []\n",
    "endyear = []\n",
    "\n",
    "for i in df['Start Date']:\n",
    "    startday.append(float(i.split('/')[0]))\n",
    "    startmonth.append(float(i.split('/')[1]))\n",
    "    startyear.append(float(i.split('/')[2]))\n",
    "    \n",
    "for j in df['End Date']:\n",
    "    startday.append(float(j.split('/')[0]))\n",
    "    startmonth.append(float(j.split('/')[1]))\n",
    "    startyear.append(float(j.split('/')[2]))\n",
    "    \n",
    "    "
   ]
  },
  {
   "cell_type": "code",
   "execution_count": 75,
   "metadata": {},
   "outputs": [],
   "source": [
    "subtractHour = []\n",
    "\n",
    "for i in range(len(starthour)):\n",
    "    subtractHour.append(endhour[i]-starthour[i])"
   ]
  },
  {
   "cell_type": "code",
   "execution_count": 78,
   "metadata": {
    "scrolled": true
   },
   "outputs": [
    {
     "data": {
      "text/plain": [
       "Counter({6.0: 45,\n",
       "         0.0: 437,\n",
       "         1.0: 477,\n",
       "         5.0: 38,\n",
       "         2.0: 166,\n",
       "         -3.0: 36,\n",
       "         -5.0: 30,\n",
       "         -4.0: 27,\n",
       "         3.0: 80,\n",
       "         4.0: 59,\n",
       "         -2.0: 23,\n",
       "         7.0: 8,\n",
       "         -6.0: 17,\n",
       "         9.0: 5,\n",
       "         -1.0: 3,\n",
       "         11.0: 2,\n",
       "         -8.0: 1,\n",
       "         8.0: 2,\n",
       "         10.0: 4,\n",
       "         -9.0: 1})"
      ]
     },
     "execution_count": 78,
     "metadata": {},
     "output_type": "execute_result"
    }
   ],
   "source": [
    "from collections import Counter\n",
    "Counter(subtractHour)"
   ]
  },
  {
   "cell_type": "markdown",
   "metadata": {},
   "source": [
    "## Top 3\n",
    "- 12시에 시작하여 12시 59분 사이 충전 하는 횟수 : 437\n",
    "- 12시에 시작하여 최대 13시 59분 사이 충전하는 횟수 : 477\n",
    "- 12시에 시작하여 최대 14시 59분 사이 충전하는 횟수 : 166\n",
    "- 위 데이터의 음수는 12시에 시작하여 하루를 넘겨서 충전하는 횟수 : 138"
   ]
  },
  {
   "cell_type": "code",
   "execution_count": 118,
   "metadata": {
    "scrolled": true
   },
   "outputs": [
    {
     "name": "stdout",
     "output_type": "stream",
     "text": [
      "6.655475972540044\n",
      "8.065582809224324\n",
      "5.9660060240963855\n",
      "8.725237500000002\n",
      "7.3375593220339015\n"
     ]
    }
   ],
   "source": [
    "#12시에 시작하여 12시 59분사이 까지 충전할 때의 평균 전력량을 구하기 위해 인덱스 추출\n",
    "k = -1\n",
    "kwh_12to12 = 0\n",
    "kwh_12to1 = 0\n",
    "kwh_12to2 = 0\n",
    "kwh_12to3 = 0\n",
    "kwh_12to4 = 0\n",
    "\n",
    "count = 0\n",
    "countt = 0\n",
    "counttt = 0\n",
    "countttt = 0\n",
    "counttttt = 0\n",
    "\n",
    "for i in range(len(starthour)):\n",
    "    k = k+1\n",
    "    if(endhour[i]-starthour[i] == 0):\n",
    "        kwh_12to12 += float(df.loc[k,['Total kWh']])\n",
    "        count += 1\n",
    "        \n",
    "\n",
    "    if(endhour[i]-starthour[i] == 1):\n",
    "        kwh_12to1 += float(df.loc[k,['Total kWh']])\n",
    "        countt += 1\n",
    "        \n",
    "    if(endhour[i]-starthour[i] == 2):\n",
    "        kwh_12to2 += float(df.loc[k,['Total kWh']])\n",
    "        counttt += 1\n",
    "        \n",
    "    if(endhour[i]-starthour[i] == 3):\n",
    "        kwh_12to3 += float(df.loc[k,['Total kWh']])\n",
    "        countttt += 1\n",
    "        \n",
    "    if(endhour[i]-starthour[i] == 4):\n",
    "        kwh_12to4 += float(df.loc[k,['Total kWh']])\n",
    "        counttttt += 1\n",
    "        \n",
    "\n",
    "kwh_12to12 = kwh_12to12 / count\n",
    "kwh_12to1 = kwh_12to1 / countt\n",
    "kwh_12to2 = kwh_12to2 / counttt\n",
    "kwh_12to3 = kwh_12to3 / countttt\n",
    "kwh_12to4 = kwh_12to4 / counttttt\n",
    "\n",
    "print(kwh_12to12)\n",
    "print(kwh_12to1)\n",
    "print(kwh_12to2)\n",
    "print(kwh_12to3)\n",
    "print(kwh_12to4)"
   ]
  },
  {
   "cell_type": "markdown",
   "metadata": {},
   "source": [
    "## Top 5\n",
    "- 12시에 시작하여 12시 59분 사이 충전 할때의 평균 전력량 : 6.655475972540044\n",
    "- 12시에 시작하여 최대 13시 59분 사이 충전 할때의 평균 전력량 : 8.065582809224324\n",
    "- 12시에 시작하여 최대 14시 59분 사이 충전 할때의 평균 전력량 : 5.9660060240963855\n",
    "- 12시에 시작하여 최대 15시 59분 사이 충전 할때의 평균 전력량 : 8.725237500000002\n",
    "- 12시에 시작하여 최대 16시 59분 사이 충전 할때의 평균 전력량 : 7.3375593220339015\n"
   ]
  },
  {
   "cell_type": "code",
   "execution_count": null,
   "metadata": {},
   "outputs": [],
   "source": []
  }
 ],
 "metadata": {
  "kernelspec": {
   "display_name": "Python 3",
   "language": "python",
   "name": "python3"
  },
  "language_info": {
   "codemirror_mode": {
    "name": "ipython",
    "version": 3
   },
   "file_extension": ".py",
   "mimetype": "text/x-python",
   "name": "python",
   "nbconvert_exporter": "python",
   "pygments_lexer": "ipython3",
   "version": "3.7.4"
  }
 },
 "nbformat": 4,
 "nbformat_minor": 2
}
